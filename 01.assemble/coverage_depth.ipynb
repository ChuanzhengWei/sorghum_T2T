{
 "cells": [
  {
   "cell_type": "code",
   "execution_count": null,
   "id": "6f8865de",
   "metadata": {},
   "outputs": [],
   "source": [
    "import os\n",
    "os.chdir(r'C:\\Users\\WeiChuanzheng\\Desktop')\n",
    "from collections import Counter"
   ]
  },
  {
   "cell_type": "code",
   "execution_count": null,
   "id": "a9bed979",
   "metadata": {},
   "outputs": [],
   "source": [
    "# The input file comes from PanDepth."
   ]
  },
  {
   "cell_type": "code",
   "execution_count": null,
   "id": "f75074f7",
   "metadata": {},
   "outputs": [],
   "source": [
    "data = []\n",
    "with open('hifi_1000.win.stat','r')as f:\n",
    "    lines = f.readlines()\n",
    "for line in lines:\n",
    "    data += [(line.rstrip().split('\\t'))]"
   ]
  },
  {
   "cell_type": "code",
   "execution_count": null,
   "id": "4ba489f0",
   "metadata": {},
   "outputs": [],
   "source": [
    "#data"
   ]
  },
  {
   "cell_type": "code",
   "execution_count": null,
   "id": "6e091075",
   "metadata": {},
   "outputs": [],
   "source": [
    "# get the coverage depth of the specified area\n",
    "contig = '1'\n",
    "left = 1234567\n",
    "right = 2345678\n",
    "distance = 100000\n",
    "with open('hifi_1000.stat.txt', 'w')as f:\n",
    "    f.write(f\"SNP\\tChromosome\\tPosition\\tMeanDepth\\n\")\n",
    "    for i in data:\n",
    "        if i[0] != 'HiC_scaffold_12':continue\n",
    "        if int(i[1]) >= left-distance and int(i[1]) <= right+distance:\n",
    "            f.write(f\"{i[0]}_{i[1]}\\t{i[0]}\\t{i[1]}\\t{i[7]}\\n\")"
   ]
  },
  {
   "cell_type": "code",
   "execution_count": null,
   "id": "b5f4956a",
   "metadata": {},
   "outputs": [],
   "source": [
    "# get HCRs and LCRs\n",
    "HCR_threshold = 200\n",
    "LCR_threshold = 30\n",
    "with open('HCR.txt', 'w')as f:\n",
    "    for i in data[1:-1]:\n",
    "        if float(i[7]) >= HCR_threshold:\n",
    "            f.write(f\"{i[0]}\\t{i[1]}\\t{i[7]}\\n\")\n",
    "with open('LCR.txt', 'w')as f:\n",
    "    for i in data[1:-1]:\n",
    "        if float(i[7]) <= LCR_threshold:\n",
    "            f.write(f\"{i[0]}\\t{i[1]}\\t{i[7]}\\n\")"
   ]
  },
  {
   "cell_type": "code",
   "execution_count": null,
   "id": "54d6cd2b",
   "metadata": {},
   "outputs": [],
   "source": [
    "# you need to modify it according to your sequence name\n",
    "chrom = [i[0] for i in data[1:]]\n",
    "chrom_1 = [int(i) for i in Counter(chrom).keys() if len(i) <=5]\n",
    "chrom_2 = sorted(chrom_1)\n",
    "chrom_3 = [str(i) for i in chrom_2]\n",
    "sorted_data = [i for j in chrom_3 for i in data if j == i[0]]"
   ]
  },
  {
   "cell_type": "code",
   "execution_count": null,
   "id": "a80d029b",
   "metadata": {},
   "outputs": [],
   "source": [
    "# The generated file can be directly used in CMplot for drawing.\n",
    "with open('hifi_10000.stat.txt', 'w')as f:\n",
    "    f.write(f\"SNP\\tChromosome\\tPosition\\tMeanDepth\\n\")\n",
    "    for i in sorted_data:\n",
    "        f.write(f\"{i[0]}_{i[1]}\\t{i[0]}\\t{i[1]}\\t{i[7]}\\n\")"
   ]
  },
  {
   "cell_type": "code",
   "execution_count": null,
   "id": "936a3760",
   "metadata": {},
   "outputs": [],
   "source": [
    "# The codes for CMplot(R)\n",
    "df2 <- read.csv(\"hifi_10000.stat.txt\",sep='\\t',header=TRUE)\n",
    "CMplot(df,type=\"h\",plot.type=\"m\",LOG10=FALSE,threshold=NULL,file=\"pdf\",ylim=c(0,150), , band=0, col=matrix(c(\"#4874CB\"),1,1,byrow=T),\n",
    "    file.name=\"hifi.b\",ylab=\" \",dpi=300,file.output=TRUE,verbose=TRUE,width=14,height=3,chr.labels.angle=0)"
   ]
  }
 ],
 "metadata": {
  "kernelspec": {
   "display_name": "Python 3 (ipykernel)",
   "language": "python",
   "name": "python3"
  },
  "language_info": {
   "codemirror_mode": {
    "name": "ipython",
    "version": 3
   },
   "file_extension": ".py",
   "mimetype": "text/x-python",
   "name": "python",
   "nbconvert_exporter": "python",
   "pygments_lexer": "ipython3",
   "version": "3.11.4"
  }
 },
 "nbformat": 4,
 "nbformat_minor": 5
}
