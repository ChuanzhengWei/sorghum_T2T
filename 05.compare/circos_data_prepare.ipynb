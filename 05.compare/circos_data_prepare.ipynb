{
 "cells": [
  {
   "cell_type": "code",
   "execution_count": null,
   "id": "bbe8e710",
   "metadata": {},
   "outputs": [],
   "source": [
    "import os\n",
    "os.chdir(r'C:\\Users\\WeiChuanzheng\\Desktop\\circos')"
   ]
  },
  {
   "cell_type": "code",
   "execution_count": null,
   "id": "2bceb3bd",
   "metadata": {},
   "outputs": [],
   "source": [
    "from collections import Counter"
   ]
  },
  {
   "cell_type": "code",
   "execution_count": null,
   "id": "6f38bd6a",
   "metadata": {},
   "outputs": [],
   "source": [
    "def FastaToDict(file):\n",
    "    fasta = {}\n",
    "    with open(file, 'r')as f:\n",
    "        lines = f.readlines()\n",
    "    for line in lines:\n",
    "        if line[0] == '>':\n",
    "            key = line.strip()\n",
    "            fasta[key] = []\n",
    "        else:\n",
    "            fasta[key].append(line.strip())\n",
    "    for key,value in list(fasta.items()):\n",
    "        fasta[key] = ''.join(value)\n",
    "    return fasta"
   ]
  },
  {
   "cell_type": "markdown",
   "id": "21fecf6b",
   "metadata": {},
   "source": [
    "# GC density"
   ]
  },
  {
   "cell_type": "code",
   "execution_count": null,
   "id": "502e0298",
   "metadata": {},
   "outputs": [],
   "source": [
    "seq = FastaToDict('Btx623B.chr.fasta')"
   ]
  },
  {
   "cell_type": "code",
   "execution_count": null,
   "id": "0c6a3b63",
   "metadata": {},
   "outputs": [],
   "source": [
    "with open('chr.len.txt', 'w')as f:\n",
    "    for k,v in seq.items():\n",
    "        k = k[1:]\n",
    "        f.write(f\"{k}\\t1\\t{len(v)}\\n\")"
   ]
  },
  {
   "cell_type": "code",
   "execution_count": null,
   "id": "cfff43e9",
   "metadata": {},
   "outputs": [],
   "source": [
    "#distance:Window size for calculating density\n",
    "gc_density = []\n",
    "distance = 1000000\n",
    "for k,v in seq.items():\n",
    "    for i in range(0,len(seq[k]),distance):\n",
    "        if i+distance < len(seq[k]):\n",
    "            fragment = seq[k][i:i+distance]\n",
    "            gc_count = (fragment.count('G') + fragment.count('C')) / len(fragment)\n",
    "#             print(f\"{k.lstrip('>')}\\t{i+1}\\t{i+distance}\\t{gc_count}\")\n",
    "            gc_density += [(k[1:],i,i+distance,gc_count)]\n",
    "        else:\n",
    "            fragment = seq[k][i:len(seq[k])]\n",
    "            gc_count = (fragment.count('G') + fragment.count('C')) / len(fragment)\n",
    "#             print(f\"{k.lstrip('>')}\\t{i+1}\\t{i+distance}\\t{gc_count}\")\n",
    "            gc_density += [(k[1:],i,len(seq[k]),gc_count)]"
   ]
  },
  {
   "cell_type": "code",
   "execution_count": null,
   "id": "4659310f",
   "metadata": {},
   "outputs": [],
   "source": [
    "with open('gc.density.1M.txt', 'w')as f:\n",
    "    for i in gc_density:\n",
    "        f.write(f\"{i[0]}\\t{i[1]}\\t{i[2]}\\t{i[3]}\\n\")"
   ]
  },
  {
   "cell_type": "markdown",
   "id": "798c03e6",
   "metadata": {},
   "source": [
    "# gene density"
   ]
  },
  {
   "cell_type": "code",
   "execution_count": null,
   "id": "bec8740d",
   "metadata": {},
   "outputs": [],
   "source": [
    "def list_to_file(data_2d, filename='output.txt'):\n",
    "    with open(filename, 'w') as f:\n",
    "        for row in data_2d:\n",
    "            f.write('\\t'.join(map(str, row)) + '\\n')"
   ]
  },
  {
   "cell_type": "code",
   "execution_count": null,
   "id": "a3aa3b23",
   "metadata": {},
   "outputs": [],
   "source": [
    "ts_pos = pickle.load(open(\"B_longest_ts_pos.pkl\",\"rb\"))"
   ]
  },
  {
   "cell_type": "code",
   "execution_count": null,
   "id": "bf8a7a65",
   "metadata": {},
   "outputs": [],
   "source": [
    "gene_density = []\n",
    "for k,v in seq.items():\n",
    "    k1 = k[1:]\n",
    "    distance = 1000000\n",
    "    for i in range(0,len(seq[k]),distance):\n",
    "        if i+distance < len(seq[k]):\n",
    "            gene_sets = [ts for ts in ts_pos if ts[1] == k1 and ts[2] >= i and ts[2] < (i+distance)]\n",
    "#             print(len(gene_sets))\n",
    "            gene_density += [(k[1:],i+1,i+distance,len(gene_sets))]\n",
    "        else:\n",
    "            gene_sets = [ts for ts in ts_pos if ts[1] == k1 and ts[2] >= i and ts[2] < len(seq[k])]\n",
    "            gene_density += [(k[1:],i+1,len(seq[k]),len(gene_sets))]"
   ]
  },
  {
   "cell_type": "code",
   "execution_count": null,
   "id": "151d5913",
   "metadata": {},
   "outputs": [],
   "source": [
    "list_to_file(gene_density, filename='gene.density.1M.txt')"
   ]
  },
  {
   "cell_type": "markdown",
   "id": "c76a3020",
   "metadata": {},
   "source": [
    "# TE density"
   ]
  },
  {
   "cell_type": "markdown",
   "id": "c4a7f64f",
   "metadata": {},
   "source": [
    "#### The input file comes from RepeatMasker, and different component information needs to be adjusted according to needs."
   ]
  },
  {
   "cell_type": "code",
   "execution_count": null,
   "id": "055d0648",
   "metadata": {},
   "outputs": [],
   "source": [
    "RM_info = []\n",
    "with open('Btx623.RepeatMasker.out', 'r')as f:\n",
    "    lines = f.readlines()\n",
    "for line in lines:\n",
    "    RM_info += [(line.split())]"
   ]
  },
  {
   "cell_type": "code",
   "execution_count": null,
   "id": "750eb2c6",
   "metadata": {},
   "outputs": [],
   "source": [
    "repeat_type = []\n",
    "for i in RM_info[3:]:\n",
    "#     if i[10] == 'Simple_repeat':continue\n",
    "#     if i[10] == 'Satellite':continue\n",
    "#     if i[10] == 'Low_complexity':continue\n",
    "#     if i[10] == 'rRNA' :continue\n",
    "    repeat_type += [(i[4], int(i[5]), int(i[6]), abs(int(i[6])-int(i[5])), i[10].split('/')[0])]\n",
    "#     repeat_type += [(i[4], int(i[5]), int(i[6]), abs(int(i[6])-int(i[5])), i[10])]"
   ]
  },
  {
   "cell_type": "code",
   "execution_count": null,
   "id": "2d1ed774",
   "metadata": {},
   "outputs": [],
   "source": [
    "#View the type and number of repeating elements\n",
    "Counter(i[4] for i in repeat_type)"
   ]
  },
  {
   "cell_type": "code",
   "execution_count": null,
   "id": "93ed570e",
   "metadata": {},
   "outputs": [],
   "source": [
    "#An example of obtaining a DNA transposon density file\n",
    "element_type = []\n",
    "for i in repeat_type:\n",
    "    if i[4] == 'DNA':\n",
    "        element_type.append(i)\n",
    "len(element_type)"
   ]
  },
  {
   "cell_type": "code",
   "execution_count": null,
   "id": "b71776ea",
   "metadata": {},
   "outputs": [],
   "source": [
    "# Number density or length density can be calculaelementd by commenting lines containing '#'\n",
    "distance = 1000000\n",
    "element_density = []\n",
    "for k,v in seq.items():\n",
    "    k1 = k[1:]\n",
    "    for i in range(0,len(seq[k]),distance):\n",
    "        if i+distance < len(seq[k]):\n",
    "#             element_sets = [ts for ts in el_type if ts[0] == k1 and ts[2] >= i and ts[2] < (i+distance)]\n",
    "#             element_density += [(k[1:],i+1,i+distance,len(element_sets))]\n",
    "            element_sets = sum(ts[3] for ts in el_type if ts[0] == k1 and ts[2] >= i and ts[2] < (i+distance))\n",
    "            element_density += [(k[1:],i+1,i+distance,element_sets/distance)]\n",
    "#             print(len(element_sets))    \n",
    "        else:\n",
    "#             element_sets = [ts for ts in el_type if ts[0] == k1 and ts[2] >= i and ts[2] < len(seq[k])]\n",
    "#             element_density += [(k[1:],i+1,len(seq[k]),len(element_sets))]\n",
    "            element_sets = sum(ts[3] for ts in el_type if ts[0] == k1 and ts[2] >= i and ts[2] < (i+distance))\n",
    "            element_density += [(k[1:],i+1,len(seq[k]),te_sets/(len(seq[k]) - i))]"
   ]
  },
  {
   "cell_type": "code",
   "execution_count": null,
   "id": "8d1c57c9",
   "metadata": {},
   "outputs": [],
   "source": [
    "list_to_file(element_density, filename='element.density.txt')"
   ]
  }
 ],
 "metadata": {
  "kernelspec": {
   "display_name": "Python 3 (ipykernel)",
   "language": "python",
   "name": "python3"
  },
  "language_info": {
   "codemirror_mode": {
    "name": "ipython",
    "version": 3
   },
   "file_extension": ".py",
   "mimetype": "text/x-python",
   "name": "python",
   "nbconvert_exporter": "python",
   "pygments_lexer": "ipython3",
   "version": "3.11.4"
  }
 },
 "nbformat": 4,
 "nbformat_minor": 5
}
