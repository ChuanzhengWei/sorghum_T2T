{
 "cells": [
  {
   "cell_type": "code",
   "execution_count": null,
   "id": "18981580",
   "metadata": {},
   "outputs": [],
   "source": [
    "# The Notebook can be used to process files to get the results you want."
   ]
  },
  {
   "cell_type": "code",
   "execution_count": null,
   "id": "b9f5945f",
   "metadata": {},
   "outputs": [],
   "source": [
    "import os\n",
    "import pickle\n",
    "from collections import Counter\n",
    "os.chdir(r'C:\\Users\\WeiChuanzheng\\Desktop\\compare\\novel\\syri')"
   ]
  },
  {
   "cell_type": "code",
   "execution_count": null,
   "id": "5837ec20",
   "metadata": {},
   "outputs": [],
   "source": [
    "input_file = 'Btx623_J2055Asyri.out'"
   ]
  },
  {
   "cell_type": "code",
   "execution_count": null,
   "id": "f0f4cfe0",
   "metadata": {},
   "outputs": [],
   "source": [
    "syri_data = []\n",
    "with open(input_file, 'r')as f:\n",
    "    lines = f.readlines()\n",
    "for line in lines:\n",
    "    syri_data += [line.rstrip().split()]"
   ]
  },
  {
   "cell_type": "code",
   "execution_count": null,
   "id": "f4ef0e18",
   "metadata": {},
   "outputs": [],
   "source": [
    "#You can get the meaning of each column athttps://schneebergerlab.github.io/syri/fileformat.html"
   ]
  },
  {
   "cell_type": "markdown",
   "id": "2cf44598",
   "metadata": {},
   "source": [
    "### Get the number of each mutation type"
   ]
  },
  {
   "cell_type": "code",
   "execution_count": null,
   "id": "3842ea5d",
   "metadata": {},
   "outputs": [],
   "source": [
    "Counter(i[10] for i in syri_data)"
   ]
  },
  {
   "cell_type": "markdown",
   "id": "9d73f39f",
   "metadata": {},
   "source": [
    "### get new sequence (Un-aligned region and Insertion in query)"
   ]
  },
  {
   "cell_type": "code",
   "execution_count": null,
   "id": "65b7f576",
   "metadata": {},
   "outputs": [],
   "source": [
    "def list_to_file(data, filename='output.txt'):\n",
    "    with open(filename, 'w') as f:\n",
    "        for row in data:\n",
    "            f.write('\\t'.join(map(str, row)) + '\\n')\n",
    "#example:list_to_file(gene_density, filename='gene.density.txt')"
   ]
  },
  {
   "cell_type": "code",
   "execution_count": null,
   "id": "2fd11b88",
   "metadata": {},
   "outputs": [],
   "source": [
    "#if target genome as reference\n",
    "new_seq = []\n",
    "for i in syri_data:\n",
    "    if i[0] == '-':continue\n",
    "    if i[10] == 'NOTAL' or i[10] == 'DEL':\n",
    "#     if abs(int(i[2])-int(i[1])) > 50:\n",
    "        new_seq += [(i[0], int(i[1]), int(i[2]))]\n",
    "#If you want to export bed format files\n",
    "list_to_file(new_seq, filename='new_seq.bed')\n",
    "#Calculate the length of the new region\n",
    "length = [abs(i[2] - i[1]) for i in new_seq]\n",
    "sum(length)"
   ]
  },
  {
   "cell_type": "code",
   "execution_count": null,
   "id": "681f54c7",
   "metadata": {},
   "outputs": [],
   "source": [
    "#if target genome as query\n",
    "new_seq = []\n",
    "for i in syri_data:\n",
    "    if i[5] == '-':continue\n",
    "    if i[10] == 'NOTAL' or i[10] == 'DEL':    \n",
    "        new_seq += [(i[0], int(i[6]), int(i[7]))]\n",
    "#If you want to export bed format files\n",
    "list_to_file(new_seq, filename='new_seq.bed')\n",
    "#Calculate the length of the new region\n",
    "length = [abs(i[2] - i[1]) for i in new_seq]\n",
    "sum(length)"
   ]
  },
  {
   "cell_type": "code",
   "execution_count": null,
   "id": "e4c19dc9",
   "metadata": {},
   "outputs": [],
   "source": [
    "# You can slightly modify the above code to complete the statistics of each mutation type."
   ]
  }
 ],
 "metadata": {
  "kernelspec": {
   "display_name": "Python 3 (ipykernel)",
   "language": "python",
   "name": "python3"
  },
  "language_info": {
   "codemirror_mode": {
    "name": "ipython",
    "version": 3
   },
   "file_extension": ".py",
   "mimetype": "text/x-python",
   "name": "python",
   "nbconvert_exporter": "python",
   "pygments_lexer": "ipython3",
   "version": "3.11.4"
  }
 },
 "nbformat": 4,
 "nbformat_minor": 5
}
